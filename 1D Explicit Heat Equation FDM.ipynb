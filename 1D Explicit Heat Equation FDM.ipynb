{
 "cells": [
  {
   "cell_type": "code",
   "execution_count": 100,
   "metadata": {},
   "outputs": [],
   "source": [
    "import numpy as np\n",
    "import matplotlib.pyplot as plt\n",
    "%matplotlib inline"
   ]
  },
  {
   "cell_type": "markdown",
   "metadata": {},
   "source": [
    "### Physical parameters"
   ]
  },
  {
   "cell_type": "code",
   "execution_count": 101,
   "metadata": {},
   "outputs": [],
   "source": [
    "L = 100; # Length of modeled domain [m]\n",
    "Tmagma = 1200; # Temperature of magma [C]\n",
    "Trock = 300; # Temperature of country rock [C]\n",
    "kappa = 1e-6; # Thermal diffusivity of rock [m2/s]\n",
    "W = 5; # Width of dike [m]\n",
    "day = 60*60*24; # seconds per day\n",
    "dt = 1*day; # Timestep [s]"
   ]
  },
  {
   "cell_type": "markdown",
   "metadata": {},
   "source": [
    "### Numerical parameters"
   ]
  },
  {
   "cell_type": "code",
   "execution_count": 102,
   "metadata": {},
   "outputs": [],
   "source": [
    "nx = 201; # Number of gridpoints in x-direction\n",
    "nt = 100; # Number of timesteps to compute\n",
    "dx = L/(nx-1); # Spacing of grid\n",
    "x = np.arange(-L/2,L/2+dx,dx) # Grid"
   ]
  },
  {
   "cell_type": "markdown",
   "metadata": {},
   "source": [
    "### Setup initial temperature profile"
   ]
  },
  {
   "cell_type": "code",
   "execution_count": 103,
   "metadata": {},
   "outputs": [],
   "source": [
    "T = np.ones(len(x))*Trock;\n",
    "T[abs(x)<=W/2] = Tmagma;"
   ]
  },
  {
   "cell_type": "code",
   "execution_count": 104,
   "metadata": {},
   "outputs": [
    {
     "data": {
      "image/png": "[encoded data removed]",
      "text/plain": [
       "<Figure size 432x288 with 1 Axes>"
      ]
     },
     "metadata": {
      "needs_background": "light"
     },
     "output_type": "display_data"
    }
   ],
   "source": [
    "plt.plot(T)\n",
    "plt.show()"
   ]
  },
  {
   "cell_type": "markdown",
   "metadata": {},
   "source": [
    "### Construct A matrix"
   ]
  },
  {
   "cell_type": "code",
   "execution_count": 105,
   "metadata": {
    "scrolled": true
   },
   "outputs": [
    {
     "name": "stdout",
     "output_type": "stream",
     "text": [
      "[[0. 0. 0. ... 0. 0. 0.]\n",
      " [0. 0. 0. ... 0. 0. 0.]\n",
      " [0. 0. 0. ... 0. 0. 0.]\n",
      " ...\n",
      " [0. 0. 0. ... 0. 0. 0.]\n",
      " [0. 0. 0. ... 0. 0. 0.]\n",
      " [0. 0. 0. ... 0. 0. 0.]]\n",
      "[[1.     0.     0.     ... 0.     0.     0.    ]\n",
      " [0.3456 0.3088 0.3456 ... 0.     0.     0.    ]\n",
      " [0.     0.3456 0.3088 ... 0.     0.     0.    ]\n",
      " ...\n",
      " [0.     0.     0.     ... 0.3088 0.3456 0.    ]\n",
      " [0.     0.     0.     ... 0.3456 0.3088 0.3456]\n",
      " [0.     0.     0.     ... 0.     0.     1.    ]]\n"
     ]
    }
   ],
   "source": [
    "from scipy.sparse import csr_matrix\n",
    "A = csr_matrix((nx, nx)).toarray()\n",
    "print(A)\n",
    "A[0,0]=1;\n",
    "r = kappa*dt/dx**2;\n",
    "for ii in range(1,nx-1):\n",
    "    A[ii,ii-1] = r\n",
    "    A[ii,ii] = 1-2*r\n",
    "    A[ii,ii+1] = r\n",
    "A[nx-1,nx-1]=1;\n",
    "print(A)"
   ]
  },
  {
   "cell_type": "code",
   "execution_count": 106,
   "metadata": {},
   "outputs": [],
   "source": [
    "time = 0;\n",
    "T = np.transpose(T)\n",
    "for n in range(nt):\n",
    "    #Timestep loop\n",
    "    # Compute new temperature\n",
    "    Tnew = np.zeros((nx,1))\n",
    "    Tnew = np.dot(A,T)\n",
    "    # Set boundary conditions\n",
    "    Tnew[0] = T[0]\n",
    "    Tnew[nx-1] = T[nx-1]\n",
    "    # Update temperature and time\n",
    "    T = Tnew\n",
    "    time = time+dt\n"
   ]
  },
  {
   "cell_type": "code",
   "execution_count": 99,
   "metadata": {},
   "outputs": [
    {
     "data": {
      "image/png": "[encoded data removed]",
      "text/plain": [
       "<Figure size 432x288 with 1 Axes>"
      ]
     },
     "metadata": {
      "needs_background": "light"
     },
     "output_type": "display_data"
    }
   ],
   "source": [
    "plt.plot(T)\n",
    "plt.show()"
   ]
  }
 ],
 "metadata": {
  "kernelspec": {
   "display_name": "Python 3 (ipykernel)",
   "language": "python",
   "name": "python3"
  },
  "language_info": {
   "codemirror_mode": {
    "name": "ipython",
    "version": 3
   },
   "file_extension": ".py",
   "mimetype": "text/x-python",
   "name": "python",
   "nbconvert_exporter": "python",
   "pygments_lexer": "ipython3",
   "version": "3.11.5"
  }
 },
 "nbformat": 4,
 "nbformat_minor": 2
}
