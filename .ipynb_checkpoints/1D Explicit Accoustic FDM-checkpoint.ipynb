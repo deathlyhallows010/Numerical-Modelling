{
 "cells": [
  {
   "cell_type": "code",
   "execution_count": 51,
   "metadata": {},
   "outputs": [],
   "source": [
    "import numpy as np\n",
    "import matplotlib.pyplot as plt\n",
    "%matplotlib inline"
   ]
  },
  {
   "cell_type": "markdown",
   "metadata": {},
   "source": [
    "### Parameter Configuration"
   ]
  },
  {
   "cell_type": "code",
   "execution_count": 52,
   "metadata": {},
   "outputs": [
    {
     "name": "stdout",
     "output_type": "stream",
     "text": [
      "Stability criterion =  0.666\n"
     ]
    }
   ],
   "source": [
    "nx = 1000; # number of grid points in x-direction\n",
    "dx = 0.5; # grid point distance in x-direction\n",
    "c0 = 333.; # wave speed in medium (m/s)\n",
    "isrc = 500; # source location in grid in x-direction\n",
    "ir = 730; # receiver location in grid in x-direction\n",
    "nt = 1000; # maximum number of time steps\n",
    "dt = 0.0010; # time step\n",
    "# CFL Stability Criterion\n",
    "eps = c0 * dt / dx; # epsilon value\n",
    "# This should be less than 1\n",
    "print('Stability criterion = ', eps)"
   ]
  },
  {
   "cell_type": "markdown",
   "metadata": {},
   "source": [
    "### Plot Source Time Function"
   ]
  },
  {
   "cell_type": "code",
   "execution_count": 53,
   "metadata": {
    "scrolled": true
   },
   "outputs": [
    {
     "name": "stdout",
     "output_type": "stream",
     "text": [
      "Source frequency =  25.0  Hz\n"
     ]
    },
    {
     "data": {
      "image/png": "[encoded data removed]",
      "text/plain": [
       "<Figure size 432x288 with 1 Axes>"
      ]
     },
     "metadata": {
      "needs_background": "light"
     },
     "output_type": "display_data"
    }
   ],
   "source": [
    "f0 = 25.; # dominant frequency of the source (Hz)\n",
    "t0 = 4. / f0; # source time shift\n",
    "print('Source frequency = ', f0, ' Hz')\n",
    "# Source time function (Gaussian)\n",
    "src = np.zeros(nt)\n",
    "time = np.linspace(0 * dt, nt * dt, nt)\n",
    "# 1st derivative of a Gaussian\n",
    "# src = -2. * (time - t0) * (f0.^2) .* (exp(-1.0 * (f0.^2)* (time - t0).^2));\n",
    "from numpy import sin, pi\n",
    "src[0:50] = -20*sin(2*pi*10*time[0:50]);\n",
    "src[50:100] = -40*sin(2*pi*10*time[50:100]);\n",
    "src[100:150] = -20*sin(2*pi*10*time[100:150]);\n",
    "plt.plot(time,src)\n",
    "plt.show()\n"
   ]
  },
  {
   "cell_type": "code",
   "execution_count": 54,
   "metadata": {},
   "outputs": [],
   "source": [
    "# Initialize empty pressure\n",
    "p = np.zeros(nx) # p at time n (now)\n",
    "pold = np.zeros(nx) # p at time n-1 (past)\n",
    "pnew = np.zeros(nx) # p at time n+1 (present)\n",
    "d2px = np.zeros(nx) # 2nd space derivative of p\n",
    "# Initialize model (assume homogeneous model)\n",
    "c = np.zeros(nx);\n",
    "c = c + c0 # initialize wave velocity in model"
   ]
  },
  {
   "cell_type": "code",
   "execution_count": 55,
   "metadata": {},
   "outputs": [
    {
     "data": {
      "image/png": "[encoded data removed]",
      "text/plain": [
       "<Figure size 432x288 with 1 Axes>"
      ]
     },
     "metadata": {
      "needs_background": "light"
     },
     "output_type": "display_data"
    },
    {
     "data": {
      "image/png": "[encoded data removed]",
      "text/plain": [
       "<Figure size 432x288 with 1 Axes>"
      ]
     },
     "metadata": {
      "needs_background": "light"
     },
     "output_type": "display_data"
    }
   ],
   "source": [
    "# Initialize coordinate\n",
    "x = np.arange(nx);\n",
    "x = x * dx # coordinate in x-direction\n",
    "# Initialize empty seismogram\n",
    "seis = np.zeros(nt);\n",
    "\n",
    "for n in range(nt):\n",
    "    for j in range(1,nx-1):\n",
    "        # compute double derivative of p w.r.t x (d2p/dx2)\n",
    "        d2px[j] = (p[j+1] -2*p[j] + p[j-1])/(dx**2);\n",
    "        \n",
    "    #Time extrapolation\n",
    "    pnew = 2*p - pold + (dt**2)*(c**2*d2px);\n",
    "    \n",
    "    # Add Source Term at isrc (Source Location)\n",
    "    # Absolute pressure w.r.t analytical solution\n",
    "    # ***************************************************************************************\n",
    "    pnew[isrc] = pnew[isrc] + (dt**2 * src[n])                            # (Source Location)\n",
    "    # ***************************************************************************************\n",
    "    \n",
    "    #Remap Time Levels\n",
    "    pold = p\n",
    "    p = pnew\n",
    "    \n",
    "    # Output Seismogram\n",
    "    seis[n] = p[ir];\n",
    "    \n",
    "    #plt.plot(x,p)\n",
    "    #plt.pause(0.001)\n",
    "    #plt.ylim([-2e-3 ,2e-3])\n",
    "    #plt.show()\n",
    "    \n",
    "plt.plot(x,p)\n",
    "#plt.pause(0.001)\n",
    "plt.ylim([-2e-3 ,2e-3])\n",
    "plt.show()\n",
    "\n",
    "\n",
    "t = np.arange(nt);\n",
    "t = t\n",
    "plt.plot(seis)\n",
    "plt.ylim([-2e-3 ,2e-3])\n",
    "plt.show()\n",
    "    "
   ]
  }
 ],
 "metadata": {
  "kernelspec": {
   "display_name": "Python 3 (ipykernel)",
   "language": "python",
   "name": "python3"
  },
  "language_info": {
   "codemirror_mode": {
    "name": "ipython",
    "version": 3
   },
   "file_extension": ".py",
   "mimetype": "text/x-python",
   "name": "python",
   "nbconvert_exporter": "python",
   "pygments_lexer": "ipython3",
   "version": "3.11.5"
  }
 },
 "nbformat": 4,
 "nbformat_minor": 2
}
